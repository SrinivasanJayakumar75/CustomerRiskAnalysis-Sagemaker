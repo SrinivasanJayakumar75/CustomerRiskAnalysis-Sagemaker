{
  "cells": [
    {
      "cell_type": "code",
      "execution_count": null,
      "metadata": {},
      "outputs": [],
      "source": [
        "import logging\n",
        "\n",
        "logging.getLogger(\"sagemaker.config\").setLevel(logging.WARNING)\n",
        "logging.getLogger(\"sagemaker.experiments.run\").setLevel(logging.WARNING)"
      ]
    },
    {
      "cell_type": "code",
      "execution_count": null,
      "metadata": {
        "id": "5d1-AEOqRZ21"
      },
      "outputs": [],
      "source": [
        "import os\n",
        "import boto3\n",
        "import sagemaker\n",
        "from datetime import datetime\n",
        "from sagemaker.experiments.run import Run\n",
        "from sagemaker.sklearn.estimator import SKLearn"
      ]
    },
    {
      "cell_type": "code",
      "execution_count": null,
      "metadata": {
        "id": "1pTLi7liRpaI"
      },
      "outputs": [],
      "source": [
        "sagemaker_session = sagemaker.Session()\n",
        "bucket = sagemaker_session.default_bucket()\n",
        "role_arn = sagemaker.get_execution_role()\n",
        "region = sagemaker_session.boto_region_name\n",
        "s3_client = boto3.client('s3', region_name=region)\n",
        "sagemaker_client = boto3.client('sagemaker')"
      ]
    },
    {
      "cell_type": "code",
      "execution_count": null,
      "metadata": {
        "id": "BH5smYowRs0h"
      },
      "outputs": [],
      "source": [
        "s3_train_uri = \"s3://sagemaker-us-east-1-891377032677/customerriskrating/processingjob/train\"\n",
        "s3_validation_uri = \"sagemaker-us-east-1-891377032677/customerriskrating/processingjob/validation\"\n",
        "s3_test_uri = \"s3://sagemaker-us-east-1-891377032677/customerriskrating/processingjob/test\""
      ]
    },
    {
      "cell_type": "markdown",
      "metadata": {},
      "source": [
        "MODEL TRAINING XGBoost"
      ]
    },
    {
      "cell_type": "code",
      "execution_count": null,
      "metadata": {},
      "outputs": [],
      "source": [
        "FRAMEWORK = 'xgboost'\n",
        "FRAMEWORK_VERSION = '1.5-1'\n",
        "\n",
        "container = sagemaker.image_uris.retrieve(\n",
        "    region=boto3.Session().region_name,\n",
        "    framework=FRAMEWORK,\n",
        "    version=FRAMEWORK_VERSION \n",
        ")\n",
        "print(f\"Container: {container}\")"
      ]
    },
    {
      "cell_type": "code",
      "execution_count": null,
      "metadata": {},
      "outputs": [],
      "source": [
        "_datetime = datetime.now().strftime('%Y-%m-%d-%H-%M-%S')\n",
        "\n",
        "_prefix = \"training-xgboost1p\"\n",
        "\n",
        "with Run(\n",
        "    experiment_name = \"CustomerRiskRating\",\n",
        "    run_name=f\"{_prefix}-{_datetime}\",\n",
        "    sagemaker_session=sagemaker_session, \n",
        ") as run:\n",
        "    \n",
        "    job_name = f\"{_prefix}-{_datetime}\"\n",
        "\n",
        "    xgb = sagemaker.estimator.Estimator(\n",
        "        container,\n",
        "        role_arn,\n",
        "        instance_count=1,\n",
        "        instance_type='ml.m4.xlarge',\n",
        "        sagemaker_session=sagemaker_session\n",
        "    )\n",
        "    xgb.set_hyperparameters(\n",
        "        max_depth=5,\n",
        "        eta=0.2,\n",
        "        gamma=4,\n",
        "        min_child_weight=6,\n",
        "        subsample=0.8,\n",
        "        objective='binary:logistic',\n",
        "        num_round=100\n",
        "    )\n",
        "\n",
        "    xgb.fit(\n",
        "        {\n",
        "            'train': sagemaker.inputs.TrainingInput(\n",
        "                s3_data=s3_train_uri,\n",
        "                content_type='csv'\n",
        "            ),\n",
        "            'validation': sagemaker.inputs.TrainingInput(\n",
        "                s3_data=s3_validation_uri,\n",
        "                content_type='csv'\n",
        "            )\n",
        "        },\n",
        "        wait=False,\n",
        "        job_name=job_name\n",
        "    )\n",
        "\n",
        "   "
      ]
    },
    {
      "cell_type": "code",
      "execution_count": null,
      "metadata": {},
      "outputs": [],
      "source": [
        "MODEL_PACKAGE_GROUP_NAME = \"Customer-Risk-Rating\"\n",
        "MODEL_PACKAGE_GROUP_DESC = \"Models trained on customer risk rating dataset to detect risk\""
      ]
    },
    {
      "cell_type": "code",
      "execution_count": null,
      "metadata": {},
      "outputs": [],
      "source": [
        "model_package_group_input_dict = {\n",
        "    \"ModelPackageGroupName\" : MODEL_PACKAGE_GROUP_NAME,\n",
        "    \"ModelPackageGroupDescription\" : MODEL_PACKAGE_GROUP_DESC\n",
        "}\n",
        "create_model_package_group_response = sagemaker_client.create_model_package_group(\n",
        "    **model_package_group_input_dict\n",
        ")\n",
        "print(f'Created ModelPackageGroup Arn : {create_model_package_group_response[\"ModelPackageGroupArn\"]}')"
      ]
    },
    {
      "cell_type": "markdown",
      "metadata": {},
      "source": [
        "REGISTER MODELS TO MODEL GROUP "
      ]
    },
    {
      "cell_type": "code",
      "execution_count": null,
      "metadata": {},
      "outputs": [],
      "source": [
        "best_training_job = \"training-xgboost1p-2024-02-20-11-26-02\""
      ]
    },
    {
      "cell_type": "code",
      "execution_count": null,
      "metadata": {},
      "outputs": [],
      "source": [
        "best_session = sagemaker.estimator.Estimator.attach(best_training_job)"
      ]
    },
    {
      "cell_type": "code",
      "execution_count": null,
      "metadata": {},
      "outputs": [],
      "source": [
        "best_session.model_data"
      ]
    },
    {
      "cell_type": "code",
      "execution_count": null,
      "metadata": {},
      "outputs": [],
      "source": [
        "best_session.register(\n",
        "    content_types=[\"application/json\", \"text/csv\"],\n",
        "    response_types=[\"application/json\", \"text/csv\"],\n",
        "    inference_instances=[\"ml.c5.xlarge\", \"ml.m5.xlarge\"],\n",
        "    transform_instances=[\"ml.c5.xlarge\", \"ml.m5.xlarge\"],\n",
        "    model_package_group_name=MODEL_PACKAGE_GROUP_NAME,\n",
        "    approval_status=\"PendingManualApproval\",\n",
        "    description=\"Customer Risk Rating model using xgboost classifier\",\n",
        "    domain=\"MACHINE_LEARNING\",\n",
        "    framework=\"XGBOOST\",\n",
        "    framework_version=FRAMEWORK_VERSION,\n",
        "    nearest_model_name=\"XGBoostClassification\"\n",
        ")\n"
      ]
    },
    {
      "cell_type": "code",
      "execution_count": null,
      "metadata": {},
      "outputs": [],
      "source": [
        "xgb_predictor = xgb.deploy(initial_instance_count=1,\n",
        "                           instance_type='ml.m4.xlarge')"
      ]
    }
  ],
  "metadata": {
    "colab": {
      "provenance": []
    },
    "kernelspec": {
      "display_name": "Python 3",
      "name": "python3"
    },
    "language_info": {
      "name": "python"
    }
  },
  "nbformat": 4,
  "nbformat_minor": 0
}
